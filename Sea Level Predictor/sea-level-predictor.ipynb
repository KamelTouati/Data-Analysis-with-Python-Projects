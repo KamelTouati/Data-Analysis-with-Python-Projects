{
 "cells": [
  {
   "cell_type": "code",
   "execution_count": null,
   "metadata": {},
   "outputs": [],
   "source": [
    "import pandas as pd\n",
    "import seaborn as sns\n",
    "import numpy as np\n",
    "import matplotlib.pyplot as plt\n",
    "from scipy.stats import linregress"
   ]
  },
  {
   "cell_type": "code",
   "execution_count": null,
   "metadata": {},
   "outputs": [],
   "source": [
    "df = pd.read_csv('epa-sea-level.csv')\n",
    "df.head()"
   ]
  },
  {
   "cell_type": "code",
   "execution_count": null,
   "metadata": {},
   "outputs": [],
   "source": [
    "Lin_Reg = linregress(x=df['Year'], y=df['CSIRO Adjusted Sea Level'])\n",
    "print(Lin_Reg)\n",
    "y2 = Lin_Reg.intercept + Lin_Reg.slope * df['Year']\n",
    "sns.scatterplot(x='Year', y='CSIRO Adjusted Sea Level',\n",
    "                data=df, label='CSIRO Sea Level')\n",
    "sns.lineplot(x='Year', y=y2, data=df, color='r', label='fitted line')\n",
    "plt.title('Sea Level by CSIRO')\n",
    "plt.xlabel('Year')\n",
    "plt.ylabel('Sea Level (inches)')"
   ]
  },
  {
   "cell_type": "code",
   "execution_count": null,
   "metadata": {},
   "outputs": [],
   "source": [
    "df_last = df[df['Year'] >= 2000]\n",
    "Lin_Reg_Last = linregress(\n",
    "    x=df_last['Year'], y=df_last['CSIRO Adjusted Sea Level'])\n",
    "print(Lin_Reg_Last)\n",
    "x1 = df_last['Year']\n",
    "y1 = df_last['CSIRO Adjusted Sea Level']\n",
    "x2 = np.arange(2000, 2051)\n",
    "y2 = Lin_Reg_Last.intercept + Lin_Reg_Last.slope*x2\n",
    "plt.scatter(x1, y1, label='CSIRO Sea Level')\n",
    "plt.plot(x2, y2, label='fitted line', color='r')\n",
    "plt.xlabel('Year')\n",
    "plt.ylabel('Sea Level (inches)')\n",
    "plt.title('Sea Level by CSIRO Until Year 2050')\n",
    "plt.legend()"
   ]
  },
  {
   "cell_type": "code",
   "execution_count": null,
   "metadata": {},
   "outputs": [],
   "source": [
    "val_2050 = Lin_Reg_Last.intercept + Lin_Reg_Last.slope*2050\n",
    "print(val_2050)"
   ]
  }
 ],
 "metadata": {
  "language_info": {
   "name": "python"
  }
 },
 "nbformat": 4,
 "nbformat_minor": 2
}
