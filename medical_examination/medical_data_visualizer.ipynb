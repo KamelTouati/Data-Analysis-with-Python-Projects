{
 "cells": [
  {
   "cell_type": "code",
   "execution_count": null,
   "metadata": {},
   "outputs": [],
   "source": [
    "import pandas as pd"
   ]
  },
  {
   "cell_type": "code",
   "execution_count": null,
   "metadata": {},
   "outputs": [],
   "source": [
    "df = pd.read_csv(\"medical_examination.csv\")\n",
    "df.head()"
   ]
  },
  {
   "cell_type": "code",
   "execution_count": null,
   "metadata": {},
   "outputs": [],
   "source": [
    "df.info()"
   ]
  },
  {
   "cell_type": "code",
   "execution_count": null,
   "metadata": {},
   "outputs": [],
   "source": [
    "# Add 'overweight' column\n",
    "df['overweight'] = (df['weight'] / (df['height'] / 100)**2 > 25).astype(int)"
   ]
  },
  {
   "cell_type": "code",
   "execution_count": null,
   "metadata": {},
   "outputs": [],
   "source": [
    "df.head()"
   ]
  },
  {
   "cell_type": "code",
   "execution_count": null,
   "metadata": {},
   "outputs": [],
   "source": [
    "# Normalize data by making 0 always good and 1 always bad. If the value of 'cholestorol' or 'gluc' is 1,\n",
    "# make the value 0. If the value is more than 1, make the value 1.\n",
    "df['cholesterol'] = (df['cholesterol'] > 1).astype(int)\n",
    "df['gluc'] = (df['gluc'] > 1).astype(int)"
   ]
  },
  {
   "cell_type": "code",
   "execution_count": null,
   "metadata": {},
   "outputs": [],
   "source": [
    "df.head()"
   ]
  },
  {
   "cell_type": "code",
   "execution_count": null,
   "metadata": {},
   "outputs": [],
   "source": [
    "# Create DataFrame for cat plot using `pd.melt` using just the values from 'cholesterol', 'gluc', 'smoke',\n",
    "# 'alco', 'active', and 'overweight'.\n",
    "df_cat = pd.melt(df, id_vars=['cardio'], value_vars=[\n",
    "                 'cholesterol', 'gluc', 'smoke', 'alco', 'active', 'overweight'])\n",
    "df_cat.head()"
   ]
  },
  {
   "cell_type": "code",
   "execution_count": null,
   "metadata": {},
   "outputs": [],
   "source": [
    "# Group and reformat the data to split it by 'cardio'. Show the counts of each feature. You will have to rename\n",
    "# one of the columns for the catplot to work correctly.\n",
    "df_cat = df_cat.groupby(['cardio', 'variable', 'value']).size().reset_index()\n",
    "df_cat = df_cat.rename(columns={0: 'total'})\n",
    "df_cat"
   ]
  },
  {
   "cell_type": "code",
   "execution_count": null,
   "metadata": {},
   "outputs": [],
   "source": [
    "import seaborn as sns"
   ]
  },
  {
   "cell_type": "code",
   "execution_count": null,
   "metadata": {},
   "outputs": [],
   "source": [
    "# Draw the catplot with 'sns.catplot()'\n",
    "graph = sns.catplot(data=df_cat,\n",
    "                    kind=\"bar\",\n",
    "                    x=\"variable\",\n",
    "                    y=\"total\",\n",
    "                    hue=\"value\",\n",
    "                    col=\"cardio\")\n",
    "fig = graph.fig\n",
    "\n",
    "# Do not modify the next two lines\n",
    "fig.savefig('catplot.png')"
   ]
  },
  {
   "cell_type": "code",
   "execution_count": null,
   "metadata": {},
   "outputs": [],
   "source": [
    "# Clean the data\n",
    "df_heat = df[(df['ap_lo'] <= df['ap_hi'])\n",
    "             & (df['height'] >= df['height'].quantile(0.025)) &\n",
    "             (df['height'] <= df['height'].quantile(0.975)) &\n",
    "             (df['weight'] >= df['weight'].quantile(0.025)) &\n",
    "             (df['weight'] <= df['weight'].quantile(0.975))]"
   ]
  },
  {
   "cell_type": "code",
   "execution_count": null,
   "metadata": {},
   "outputs": [],
   "source": [
    "# Calculate the correlation matrix\n",
    "corr = df_heat.corr()"
   ]
  },
  {
   "cell_type": "code",
   "execution_count": null,
   "metadata": {},
   "outputs": [],
   "source": [
    "import numpy as np"
   ]
  },
  {
   "cell_type": "code",
   "execution_count": null,
   "metadata": {},
   "outputs": [],
   "source": [
    "# Generate a mask for the upper triangle\n",
    "mask = np.triu(np.ones_like(corr, dtype=bool))"
   ]
  },
  {
   "cell_type": "code",
   "execution_count": null,
   "metadata": {},
   "outputs": [],
   "source": [
    "import matplotlib.pyplot as plt"
   ]
  },
  {
   "cell_type": "code",
   "execution_count": null,
   "metadata": {},
   "outputs": [],
   "source": [
    "# Set up the matplotlib figure\n",
    "fig, ax = plt.subplots(figsize=(16, 9))"
   ]
  },
  {
   "cell_type": "code",
   "execution_count": null,
   "metadata": {},
   "outputs": [],
   "source": [
    "# Draw the heatmap with 'sns.heatmap()'\n",
    "sns.heatmap(corr,\n",
    "            mask=mask,\n",
    "            square=True,\n",
    "            linewidths=0.5,\n",
    "            annot=True,\n",
    "            fmt=\"0.1f\")\n",
    "\n",
    "# Do not modify the next two lines\n",
    "fig.savefig('heatmap.png')"
   ]
  }
 ],
 "metadata": {
  "language_info": {
   "name": "python"
  }
 },
 "nbformat": 4,
 "nbformat_minor": 2
}
