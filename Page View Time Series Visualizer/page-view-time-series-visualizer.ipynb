{
 "cells": [
  {
   "cell_type": "code",
   "execution_count": null,
   "metadata": {},
   "outputs": [],
   "source": [
    "import matplotlib.pyplot as plt\n",
    "import pandas as pd\n",
    "import seaborn as sns\n",
    "from pandas.plotting import register_matplotlib_converters\n",
    "register_matplotlib_converters()"
   ]
  },
  {
   "cell_type": "code",
   "execution_count": null,
   "metadata": {},
   "outputs": [],
   "source": [
    "# Import data (Make sure to parse dates. Consider setting index column to 'date'.)\n",
    "df = pd.read_csv('fcc-forum-pageviews.csv',\n",
    "                 index_col='date', parse_dates=['date'])\n",
    "df.head()"
   ]
  },
  {
   "cell_type": "code",
   "execution_count": null,
   "metadata": {},
   "outputs": [],
   "source": [
    "# Clean data\n",
    "df = df[(df.value > df.value.quantile(0.025)) &\n",
    "        (df.value < df.value.quantile(0.975))]"
   ]
  },
  {
   "cell_type": "code",
   "execution_count": null,
   "metadata": {},
   "outputs": [],
   "source": [
    "fig = df.plot.line(figsize=(15, 5), color='red', legend=False)\n",
    "plt.title('Daily freeCodeCamp Forum Page Views 5/2016-12/2019')\n",
    "plt.xlabel('Date')\n",
    "plt.xticks(rotation=0)\n",
    "plt.ylabel('Page Views')\n",
    "\n",
    "fig = fig.figure\n",
    "\n",
    "# Save image and return fig (don't change this part)\n",
    "fig.savefig('line_plot.png')"
   ]
  },
  {
   "cell_type": "code",
   "execution_count": null,
   "metadata": {},
   "outputs": [],
   "source": [
    "# Copy and modify data for monthly bar plot\n",
    "df_bar = df.copy()\n",
    "df_bar['year'] = df.index.year\n",
    "df_bar['month'] = df.index.month_name()\n",
    "\n",
    "# grouping and orgenizing the df\n",
    "df_bar_group = df_bar.groupby(['year', 'month'])['value'].mean()\n",
    "df_bar_group = df_bar_group.unstack(level='month')\n",
    "df_bar_group = df_bar_group[['January', 'February', 'March', 'April', 'May',\n",
    "                            'June', 'July', 'August', 'September', 'October', 'November', 'December']]\n",
    "\n",
    "# Draw bar plot\n",
    "fig = df_bar_group.plot.bar(figsize=(7, 7)).figure\n",
    "plt.xlabel('Years')\n",
    "# plt.xticks(rotation = 0)\n",
    "plt.ylabel('Average Page Views')\n",
    "plt.legend(title='Months')\n",
    "\n",
    "# Save image and return fig (don't change this part)\n",
    "fig.savefig('bar_plot.png')"
   ]
  },
  {
   "cell_type": "code",
   "execution_count": null,
   "metadata": {},
   "outputs": [],
   "source": [
    "# Prepare data for box plots (this part is done!)\n",
    "df_box = df.copy()\n",
    "df_box.reset_index(inplace=True)\n",
    "df_box['year'] = [d.year for d in df_box.date]\n",
    "df_box['month'] = [d.strftime('%b') for d in df_box.date]\n",
    "\n",
    "mon_order = ['Jan', 'Feb', 'Mar', 'Apr', 'May',\n",
    "             'Jun', 'Jul', 'Aug', 'Sep', 'Oct', 'Nov', 'Dec']\n",
    "\n",
    "# Draw box plots (using Seaborn)\n",
    "fig, (ax1, ax2) = plt.subplots(1, 2, figsize=(20, 5))\n",
    "ax1 = sns.boxplot(data=df_box, x='year', y='value', ax=ax1)\n",
    "ax2 = sns.boxplot(data=df_box, x='month', y='value', ax=ax2, order=mon_order)\n",
    "ax1.set_ylabel('Page Views')\n",
    "ax1.set_xlabel('Year')\n",
    "ax1.set_title('Year-wise Box Plot (Trend)')\n",
    "ax2.set_ylabel('Page Views')\n",
    "ax2.set_xlabel('Month')\n",
    "ax2.set_title('Month-wise Box Plot (Seasonality)')\n",
    "\n",
    "# Save image and return fig (don't change this part)\n",
    "fig.savefig('box_plot.png')"
   ]
  }
 ],
 "metadata": {
  "language_info": {
   "name": "python"
  }
 },
 "nbformat": 4,
 "nbformat_minor": 2
}
